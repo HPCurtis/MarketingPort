{
 "cells": [
  {
   "cell_type": "code",
   "execution_count": 139,
   "metadata": {},
   "outputs": [
    {
     "data": {
      "text/html": [
       "<div><div style = \"float: left;\"><span>3200×7 DataFrame</span></div><div style = \"float: right;\"><span style = \"font-style: italic;\">3175 rows omitted</span></div><div style = \"clear: both;\"></div></div><div class = \"data-frame\" style = \"overflow-x: scroll;\"><table class = \"data-frame\" style = \"margin-bottom: 6px;\"><thead><tr class = \"header\"><th class = \"rowNumber\" style = \"font-weight: bold; text-align: right;\">Row</th><th style = \"text-align: left;\">Column1</th><th style = \"text-align: left;\">respID</th><th style = \"text-align: left;\">rating</th><th style = \"text-align: left;\">speed</th><th style = \"text-align: left;\">height</th><th style = \"text-align: left;\">cons</th><th style = \"text-align: left;\">theme</th></tr><tr class = \"subheader headerLastRow\"><th class = \"rowNumber\" style = \"font-weight: bold; text-align: right;\"></th><th title = \"Int64\" style = \"text-align: left;\">Int64</th><th title = \"CategoricalValue{Int64, UInt32}\" style = \"text-align: left;\">Cat…</th><th title = \"Int64\" style = \"text-align: left;\">Int64</th><th title = \"CategoricalValue{Int64, UInt32}\" style = \"text-align: left;\">Cat…</th><th title = \"CategoricalValue{Int64, UInt32}\" style = \"text-align: left;\">Cat…</th><th title = \"CategoricalValue{String7, UInt32}\" style = \"text-align: left;\">Cat…</th><th title = \"String7\" style = \"text-align: left;\">String7</th></tr></thead><tbody><tr><td class = \"rowNumber\" style = \"font-weight: bold; text-align: right;\">1</td><td style = \"text-align: right;\">1</td><td style = \"text-align: left;\">1</td><td style = \"text-align: right;\">4</td><td style = \"text-align: left;\">40</td><td style = \"text-align: left;\">300</td><td style = \"text-align: left;\">Steel</td><td style = \"text-align: left;\">Dragon</td></tr><tr><td class = \"rowNumber\" style = \"font-weight: bold; text-align: right;\">2</td><td style = \"text-align: right;\">2</td><td style = \"text-align: left;\">1</td><td style = \"text-align: right;\">3</td><td style = \"text-align: left;\">50</td><td style = \"text-align: left;\">200</td><td style = \"text-align: left;\">Wood</td><td style = \"text-align: left;\">Dragon</td></tr><tr><td class = \"rowNumber\" style = \"font-weight: bold; text-align: right;\">3</td><td style = \"text-align: right;\">3</td><td style = \"text-align: left;\">1</td><td style = \"text-align: right;\">5</td><td style = \"text-align: left;\">50</td><td style = \"text-align: left;\">300</td><td style = \"text-align: left;\">Wood</td><td style = \"text-align: left;\">Dragon</td></tr><tr><td class = \"rowNumber\" style = \"font-weight: bold; text-align: right;\">4</td><td style = \"text-align: right;\">4</td><td style = \"text-align: left;\">1</td><td style = \"text-align: right;\">6</td><td style = \"text-align: left;\">60</td><td style = \"text-align: left;\">300</td><td style = \"text-align: left;\">Wood</td><td style = \"text-align: left;\">Eagle</td></tr><tr><td class = \"rowNumber\" style = \"font-weight: bold; text-align: right;\">5</td><td style = \"text-align: right;\">5</td><td style = \"text-align: left;\">1</td><td style = \"text-align: right;\">4</td><td style = \"text-align: left;\">60</td><td style = \"text-align: left;\">400</td><td style = \"text-align: left;\">Wood</td><td style = \"text-align: left;\">Eagle</td></tr><tr><td class = \"rowNumber\" style = \"font-weight: bold; text-align: right;\">6</td><td style = \"text-align: right;\">6</td><td style = \"text-align: left;\">1</td><td style = \"text-align: right;\">4</td><td style = \"text-align: left;\">50</td><td style = \"text-align: left;\">400</td><td style = \"text-align: left;\">Steel</td><td style = \"text-align: left;\">Eagle</td></tr><tr><td class = \"rowNumber\" style = \"font-weight: bold; text-align: right;\">7</td><td style = \"text-align: right;\">7</td><td style = \"text-align: left;\">1</td><td style = \"text-align: right;\">4</td><td style = \"text-align: left;\">50</td><td style = \"text-align: left;\">400</td><td style = \"text-align: left;\">Steel</td><td style = \"text-align: left;\">Dragon</td></tr><tr><td class = \"rowNumber\" style = \"font-weight: bold; text-align: right;\">8</td><td style = \"text-align: right;\">8</td><td style = \"text-align: left;\">1</td><td style = \"text-align: right;\">1</td><td style = \"text-align: left;\">40</td><td style = \"text-align: left;\">200</td><td style = \"text-align: left;\">Steel</td><td style = \"text-align: left;\">Dragon</td></tr><tr><td class = \"rowNumber\" style = \"font-weight: bold; text-align: right;\">9</td><td style = \"text-align: right;\">9</td><td style = \"text-align: left;\">1</td><td style = \"text-align: right;\">1</td><td style = \"text-align: left;\">50</td><td style = \"text-align: left;\">200</td><td style = \"text-align: left;\">Wood</td><td style = \"text-align: left;\">Eagle</td></tr><tr><td class = \"rowNumber\" style = \"font-weight: bold; text-align: right;\">10</td><td style = \"text-align: right;\">10</td><td style = \"text-align: left;\">1</td><td style = \"text-align: right;\">3</td><td style = \"text-align: left;\">60</td><td style = \"text-align: left;\">200</td><td style = \"text-align: left;\">Wood</td><td style = \"text-align: left;\">Eagle</td></tr><tr><td class = \"rowNumber\" style = \"font-weight: bold; text-align: right;\">11</td><td style = \"text-align: right;\">11</td><td style = \"text-align: left;\">1</td><td style = \"text-align: right;\">10</td><td style = \"text-align: left;\">70</td><td style = \"text-align: left;\">300</td><td style = \"text-align: left;\">Wood</td><td style = \"text-align: left;\">Eagle</td></tr><tr><td class = \"rowNumber\" style = \"font-weight: bold; text-align: right;\">12</td><td style = \"text-align: right;\">12</td><td style = \"text-align: left;\">1</td><td style = \"text-align: right;\">6</td><td style = \"text-align: left;\">50</td><td style = \"text-align: left;\">300</td><td style = \"text-align: left;\">Steel</td><td style = \"text-align: left;\">Dragon</td></tr><tr><td class = \"rowNumber\" style = \"font-weight: bold; text-align: right;\">13</td><td style = \"text-align: right;\">13</td><td style = \"text-align: left;\">1</td><td style = \"text-align: right;\">7</td><td style = \"text-align: left;\">60</td><td style = \"text-align: left;\">300</td><td style = \"text-align: left;\">Steel</td><td style = \"text-align: left;\">Dragon</td></tr><tr><td style = \"text-align: right;\">&vellip;</td><td style = \"text-align: right;\">&vellip;</td><td style = \"text-align: right;\">&vellip;</td><td style = \"text-align: right;\">&vellip;</td><td style = \"text-align: right;\">&vellip;</td><td style = \"text-align: right;\">&vellip;</td><td style = \"text-align: right;\">&vellip;</td><td style = \"text-align: right;\">&vellip;</td></tr><tr><td class = \"rowNumber\" style = \"font-weight: bold; text-align: right;\">3189</td><td style = \"text-align: right;\">3189</td><td style = \"text-align: left;\">200</td><td style = \"text-align: right;\">8</td><td style = \"text-align: left;\">60</td><td style = \"text-align: left;\">400</td><td style = \"text-align: left;\">Wood</td><td style = \"text-align: left;\">Eagle</td></tr><tr><td class = \"rowNumber\" style = \"font-weight: bold; text-align: right;\">3190</td><td style = \"text-align: right;\">3190</td><td style = \"text-align: left;\">200</td><td style = \"text-align: right;\">6</td><td style = \"text-align: left;\">50</td><td style = \"text-align: left;\">400</td><td style = \"text-align: left;\">Steel</td><td style = \"text-align: left;\">Eagle</td></tr><tr><td class = \"rowNumber\" style = \"font-weight: bold; text-align: right;\">3191</td><td style = \"text-align: right;\">3191</td><td style = \"text-align: left;\">200</td><td style = \"text-align: right;\">8</td><td style = \"text-align: left;\">50</td><td style = \"text-align: left;\">400</td><td style = \"text-align: left;\">Steel</td><td style = \"text-align: left;\">Dragon</td></tr><tr><td class = \"rowNumber\" style = \"font-weight: bold; text-align: right;\">3192</td><td style = \"text-align: right;\">3192</td><td style = \"text-align: left;\">200</td><td style = \"text-align: right;\">1</td><td style = \"text-align: left;\">40</td><td style = \"text-align: left;\">200</td><td style = \"text-align: left;\">Steel</td><td style = \"text-align: left;\">Dragon</td></tr><tr><td class = \"rowNumber\" style = \"font-weight: bold; text-align: right;\">3193</td><td style = \"text-align: right;\">3193</td><td style = \"text-align: left;\">200</td><td style = \"text-align: right;\">4</td><td style = \"text-align: left;\">50</td><td style = \"text-align: left;\">200</td><td style = \"text-align: left;\">Wood</td><td style = \"text-align: left;\">Eagle</td></tr><tr><td class = \"rowNumber\" style = \"font-weight: bold; text-align: right;\">3194</td><td style = \"text-align: right;\">3194</td><td style = \"text-align: left;\">200</td><td style = \"text-align: right;\">6</td><td style = \"text-align: left;\">60</td><td style = \"text-align: left;\">200</td><td style = \"text-align: left;\">Wood</td><td style = \"text-align: left;\">Eagle</td></tr><tr><td class = \"rowNumber\" style = \"font-weight: bold; text-align: right;\">3195</td><td style = \"text-align: right;\">3195</td><td style = \"text-align: left;\">200</td><td style = \"text-align: right;\">10</td><td style = \"text-align: left;\">70</td><td style = \"text-align: left;\">300</td><td style = \"text-align: left;\">Wood</td><td style = \"text-align: left;\">Eagle</td></tr><tr><td class = \"rowNumber\" style = \"font-weight: bold; text-align: right;\">3196</td><td style = \"text-align: right;\">3196</td><td style = \"text-align: left;\">200</td><td style = \"text-align: right;\">7</td><td style = \"text-align: left;\">50</td><td style = \"text-align: left;\">300</td><td style = \"text-align: left;\">Steel</td><td style = \"text-align: left;\">Dragon</td></tr><tr><td class = \"rowNumber\" style = \"font-weight: bold; text-align: right;\">3197</td><td style = \"text-align: right;\">3197</td><td style = \"text-align: left;\">200</td><td style = \"text-align: right;\">6</td><td style = \"text-align: left;\">60</td><td style = \"text-align: left;\">300</td><td style = \"text-align: left;\">Steel</td><td style = \"text-align: left;\">Dragon</td></tr><tr><td class = \"rowNumber\" style = \"font-weight: bold; text-align: right;\">3198</td><td style = \"text-align: right;\">3198</td><td style = \"text-align: left;\">200</td><td style = \"text-align: right;\">3</td><td style = \"text-align: left;\">40</td><td style = \"text-align: left;\">200</td><td style = \"text-align: left;\">Steel</td><td style = \"text-align: left;\">Dragon</td></tr><tr><td class = \"rowNumber\" style = \"font-weight: bold; text-align: right;\">3199</td><td style = \"text-align: right;\">3199</td><td style = \"text-align: left;\">200</td><td style = \"text-align: right;\">1</td><td style = \"text-align: left;\">40</td><td style = \"text-align: left;\">200</td><td style = \"text-align: left;\">Wood</td><td style = \"text-align: left;\">Eagle</td></tr><tr><td class = \"rowNumber\" style = \"font-weight: bold; text-align: right;\">3200</td><td style = \"text-align: right;\">3200</td><td style = \"text-align: left;\">200</td><td style = \"text-align: right;\">6</td><td style = \"text-align: left;\">70</td><td style = \"text-align: left;\">200</td><td style = \"text-align: left;\">Wood</td><td style = \"text-align: left;\">Eagle</td></tr></tbody></table></div>"
      ],
      "text/latex": [
       "\\begin{tabular}{r|ccccccc}\n",
       "\t& Column1 & respID & rating & speed & height & cons & theme\\\\\n",
       "\t\\hline\n",
       "\t& Int64 & Cat… & Int64 & Cat… & Cat… & Cat… & String7\\\\\n",
       "\t\\hline\n",
       "\t1 & 1 & 1 & 4 & 40 & 300 & Steel & Dragon \\\\\n",
       "\t2 & 2 & 1 & 3 & 50 & 200 & Wood & Dragon \\\\\n",
       "\t3 & 3 & 1 & 5 & 50 & 300 & Wood & Dragon \\\\\n",
       "\t4 & 4 & 1 & 6 & 60 & 300 & Wood & Eagle \\\\\n",
       "\t5 & 5 & 1 & 4 & 60 & 400 & Wood & Eagle \\\\\n",
       "\t6 & 6 & 1 & 4 & 50 & 400 & Steel & Eagle \\\\\n",
       "\t7 & 7 & 1 & 4 & 50 & 400 & Steel & Dragon \\\\\n",
       "\t8 & 8 & 1 & 1 & 40 & 200 & Steel & Dragon \\\\\n",
       "\t9 & 9 & 1 & 1 & 50 & 200 & Wood & Eagle \\\\\n",
       "\t10 & 10 & 1 & 3 & 60 & 200 & Wood & Eagle \\\\\n",
       "\t11 & 11 & 1 & 10 & 70 & 300 & Wood & Eagle \\\\\n",
       "\t12 & 12 & 1 & 6 & 50 & 300 & Steel & Dragon \\\\\n",
       "\t13 & 13 & 1 & 7 & 60 & 300 & Steel & Dragon \\\\\n",
       "\t14 & 14 & 1 & 1 & 40 & 200 & Steel & Dragon \\\\\n",
       "\t15 & 15 & 1 & 2 & 40 & 200 & Wood & Eagle \\\\\n",
       "\t16 & 16 & 1 & 6 & 70 & 200 & Wood & Eagle \\\\\n",
       "\t17 & 17 & 2 & 6 & 40 & 300 & Steel & Dragon \\\\\n",
       "\t18 & 18 & 2 & 4 & 50 & 200 & Wood & Dragon \\\\\n",
       "\t19 & 19 & 2 & 8 & 50 & 300 & Wood & Dragon \\\\\n",
       "\t20 & 20 & 2 & 7 & 60 & 300 & Wood & Eagle \\\\\n",
       "\t21 & 21 & 2 & 10 & 60 & 400 & Wood & Eagle \\\\\n",
       "\t22 & 22 & 2 & 2 & 50 & 400 & Steel & Eagle \\\\\n",
       "\t23 & 23 & 2 & 10 & 50 & 400 & Steel & Dragon \\\\\n",
       "\t24 & 24 & 2 & 2 & 40 & 200 & Steel & Dragon \\\\\n",
       "\t$\\dots$ & $\\dots$ & $\\dots$ & $\\dots$ & $\\dots$ & $\\dots$ & $\\dots$ & $\\dots$ \\\\\n",
       "\\end{tabular}\n"
      ],
      "text/plain": [
       "\u001b[1m3200×7 DataFrame\u001b[0m\n",
       "\u001b[1m  Row \u001b[0m│\u001b[1m Column1 \u001b[0m\u001b[1m respID \u001b[0m\u001b[1m rating \u001b[0m\u001b[1m speed \u001b[0m\u001b[1m height \u001b[0m\u001b[1m cons  \u001b[0m\u001b[1m theme   \u001b[0m\n",
       "      │\u001b[90m Int64   \u001b[0m\u001b[90m Cat…   \u001b[0m\u001b[90m Int64  \u001b[0m\u001b[90m Cat…  \u001b[0m\u001b[90m Cat…   \u001b[0m\u001b[90m Cat…  \u001b[0m\u001b[90m String7 \u001b[0m\n",
       "──────┼────────────────────────────────────────────────────────\n",
       "    1 │       1  1            4  40     300     Steel  Dragon\n",
       "    2 │       2  1            3  50     200     Wood   Dragon\n",
       "    3 │       3  1            5  50     300     Wood   Dragon\n",
       "    4 │       4  1            6  60     300     Wood   Eagle\n",
       "    5 │       5  1            4  60     400     Wood   Eagle\n",
       "    6 │       6  1            4  50     400     Steel  Eagle\n",
       "    7 │       7  1            4  50     400     Steel  Dragon\n",
       "    8 │       8  1            1  40     200     Steel  Dragon\n",
       "  ⋮   │    ⋮       ⋮       ⋮       ⋮      ⋮       ⋮       ⋮\n",
       " 3194 │    3194  200          6  60     200     Wood   Eagle\n",
       " 3195 │    3195  200         10  70     300     Wood   Eagle\n",
       " 3196 │    3196  200          7  50     300     Steel  Dragon\n",
       " 3197 │    3197  200          6  60     300     Steel  Dragon\n",
       " 3198 │    3198  200          3  40     200     Steel  Dragon\n",
       " 3199 │    3199  200          1  40     200     Wood   Eagle\n",
       " 3200 │    3200  200          6  70     200     Wood   Eagle\n",
       "\u001b[36m                                              3185 rows omitted\u001b[0m"
      ]
     },
     "metadata": {},
     "output_type": "display_data"
    }
   ],
   "source": [
    "using CSV\n",
    "using DataFrames  \n",
    "using CategoricalArrays\n",
    "using MixedModels, StatsModels\n",
    "\n",
    "# Import dataset from github.\n",
    "df = CSV.read(\"/home/harrison/Desktop/gitHubRepos/Datasets/hierMarketing.csv\", DataFrame)\n",
    "\n",
    "# Rename dataframe columns. \n",
    "rename!(df, Dict(:const  => :cons))\n",
    "rename!(df, Dict(\"resp.id\" => :respID))\n",
    "\n",
    "# Convert tp categorical\n",
    "df.cons = categorical(df.cons);\n",
    "df.speed = categorical(df.speed);\n",
    "df.height = categorical(df.height);\n",
    "df.respID = categorical(df.respID);"
   ]
  },
  {
   "cell_type": "code",
   "execution_count": 145,
   "metadata": {},
   "outputs": [
    {
     "name": "stdout",
     "output_type": "stream",
     "text": [
      "Linear mixed model fit by maximum likelihood\n",
      " rating ~ 1 + speed + height + cons + theme + (1 | respID)\n",
      "   logLik   -2 logLik     AIC       AICc        BIC    \n",
      " -6649.5950 13299.1899 13319.1899 13319.2589 13379.8990\n",
      "\n",
      "Variance components:\n",
      "            Column   Variance Std.Dev. \n",
      "respID   (Intercept)  0.332894 0.576969\n",
      "Residual              3.527552 1.878178\n",
      " Number of obs: 3200; levels of grouping factors: 200\n",
      "\n",
      "  Fixed-effects parameters:\n",
      "────────────────────────────────────────────────────\n",
      "                  Coef.  Std. Error      z  Pr(>|z|)\n",
      "────────────────────────────────────────────────────\n",
      "(Intercept)    3.07307    0.0874468  35.14    <1e-99\n",
      "speed: 50      0.820772   0.104271    7.87    <1e-14\n",
      "speed: 60      1.57443    0.121952   12.91    <1e-37\n",
      "speed: 70      4.48697    0.144039   31.15    <1e-99\n",
      "height: 300    2.94551    0.0866561  33.99    <1e-99\n",
      "height: 400    1.44738    0.121811   11.88    <1e-31\n",
      "cons: Wood    -0.118255   0.106838   -1.11    0.2684\n",
      "theme: Eagle  -0.754543   0.106798   -7.07    <1e-11\n",
      "────────────────────────────────────────────────────\n"
     ]
    }
   ],
   "source": [
    "# Fit mixed model. \n",
    "fm = @formula(rating ~ speed + height + cons + theme + (1 | respID))\n",
    "println(fit(MixedModel, fm, df))"
   ]
  }
 ],
 "metadata": {
  "kernelspec": {
   "display_name": "Julia 1.9.3",
   "language": "julia",
   "name": "julia-1.9"
  },
  "language_info": {
   "file_extension": ".jl",
   "mimetype": "application/julia",
   "name": "julia",
   "version": "1.9.3"
  }
 },
 "nbformat": 4,
 "nbformat_minor": 2
}
